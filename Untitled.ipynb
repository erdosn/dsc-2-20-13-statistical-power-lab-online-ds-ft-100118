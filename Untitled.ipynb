{
 "cells": [
  {
   "cell_type": "code",
   "execution_count": 33,
   "metadata": {},
   "outputs": [],
   "source": [
    "import requests\n",
    "import json\n",
    "import numpy as np\n",
    "import pandas as np\n",
    "import markovify\n",
    "\n",
    "from bs4 import BeautifulSoup"
   ]
  },
  {
   "cell_type": "markdown",
   "metadata": {},
   "source": [
    "# Grab Source Page from Buzzfeed Homepage"
   ]
  },
  {
   "cell_type": "code",
   "execution_count": 40,
   "metadata": {},
   "outputs": [],
   "source": [
    "url = \"https://www.buzzfeednews.com/\"\n",
    "html_page = requests.get(url)"
   ]
  },
  {
   "cell_type": "markdown",
   "metadata": {},
   "source": [
    "# Instantiate in soup object and grab headlines"
   ]
  },
  {
   "cell_type": "code",
   "execution_count": 41,
   "metadata": {},
   "outputs": [],
   "source": [
    "soup = BeautifulSoup(html_page.content, 'html.parser')"
   ]
  },
  {
   "cell_type": "code",
   "execution_count": 42,
   "metadata": {},
   "outputs": [],
   "source": [
    "# find the story cards\n",
    "story_cards = soup.find_all(\"a\", class_=\"newsblock-story-card__title-link\")"
   ]
  },
  {
   "cell_type": "code",
   "execution_count": 43,
   "metadata": {},
   "outputs": [
    {
     "data": {
      "text/plain": [
       "36"
      ]
     },
     "execution_count": 43,
     "metadata": {},
     "output_type": "execute_result"
    }
   ],
   "source": [
    "# check the length\n",
    "len(story_cards)"
   ]
  },
  {
   "cell_type": "code",
   "execution_count": 44,
   "metadata": {},
   "outputs": [
    {
     "data": {
      "text/plain": [
       "<a class=\"newsblock-story-card__title-link\" data-bfa=\"@a:post; @d:-1; @o:{dimension2:4939631,dimension4:Mahershala Ali Responded To His Co-Star Viggo Mortensen Saying The N-Word};@e:{obj_id:4939631,obj_type:post,p:-1,post_category:Culture,data_source:omnisearch,treatment:news,variation_id:};\" data-bfa-impressions=\"true\" href=\"https://www.buzzfeednews.com/article/davidmack/mahershala-ali-viggo-mortensens-n-word-green-book\">\n",
       "        Mahershala Ali Responded To His Co-Star Viggo Mortensen Saying The N-Word\n",
       "      </a>"
      ]
     },
     "execution_count": 44,
     "metadata": {},
     "output_type": "execute_result"
    }
   ],
   "source": [
    "# check first element\n",
    "story_cards[0]"
   ]
  },
  {
   "cell_type": "markdown",
   "metadata": {},
   "source": [
    "# Investigate headlines position in story_cards"
   ]
  },
  {
   "cell_type": "code",
   "execution_count": 45,
   "metadata": {},
   "outputs": [
    {
     "data": {
      "text/plain": [
       "<a class=\"newsblock-story-card__title-link\" data-bfa=\"@a:post; @d:-1; @o:{dimension2:4939631,dimension4:Mahershala Ali Responded To His Co-Star Viggo Mortensen Saying The N-Word};@e:{obj_id:4939631,obj_type:post,p:-1,post_category:Culture,data_source:omnisearch,treatment:news,variation_id:};\" data-bfa-impressions=\"true\" href=\"https://www.buzzfeednews.com/article/davidmack/mahershala-ali-viggo-mortensens-n-word-green-book\">\n",
       "        Mahershala Ali Responded To His Co-Star Viggo Mortensen Saying The N-Word\n",
       "      </a>"
      ]
     },
     "execution_count": 45,
     "metadata": {},
     "output_type": "execute_result"
    }
   ],
   "source": [
    "# inspect and grab headlines from first story_card\n",
    "first_card = story_cards[0]\n",
    "first_card"
   ]
  },
  {
   "cell_type": "code",
   "execution_count": 46,
   "metadata": {},
   "outputs": [
    {
     "name": "stdout",
     "output_type": "stream",
     "text": [
      "\n",
      "        Mahershala Ali Responded To His Co-Star Viggo Mortensen Saying The N-Word\n",
      "      \n"
     ]
    }
   ],
   "source": [
    "print(first_card.text)"
   ]
  },
  {
   "cell_type": "code",
   "execution_count": 47,
   "metadata": {},
   "outputs": [
    {
     "data": {
      "text/plain": [
       "'Mahershala Ali Responded To His Co-Star Viggo Mortensen Saying The N-Word'"
      ]
     },
     "execution_count": 47,
     "metadata": {},
     "output_type": "execute_result"
    }
   ],
   "source": [
    "first_card.text.strip(\"\\n\").strip()"
   ]
  },
  {
   "cell_type": "markdown",
   "metadata": {},
   "source": [
    "# Great, now let's do this for all of the headlines!!!"
   ]
  },
  {
   "cell_type": "code",
   "execution_count": 48,
   "metadata": {},
   "outputs": [],
   "source": [
    "headlines = [card.text.strip(\"\\n\").strip() for card in story_cards]"
   ]
  },
  {
   "cell_type": "code",
   "execution_count": 50,
   "metadata": {},
   "outputs": [
    {
     "data": {
      "text/plain": [
       "['Mahershala Ali Responded To His Co-Star Viggo Mortensen Saying The N-Word',\n",
       " 'Former James Bond Star Rosamund Pike Says The Movies Are “Ripe For An Incredible Amount Of Sexism”',\n",
       " 'The Border Patrol Apprehended More Families Than Ever At The Border Last Month']"
      ]
     },
     "execution_count": 50,
     "metadata": {},
     "output_type": "execute_result"
    }
   ],
   "source": [
    "headlines[:3]"
   ]
  },
  {
   "cell_type": "markdown",
   "metadata": {},
   "source": [
    "# Now that we have some headlines, let's play with generating new ones"
   ]
  },
  {
   "cell_type": "code",
   "execution_count": 34,
   "metadata": {},
   "outputs": [],
   "source": [
    "markov = markovify.NewlineText(\"\\n\".join(headlines))"
   ]
  },
  {
   "cell_type": "code",
   "execution_count": 35,
   "metadata": {},
   "outputs": [
    {
     "name": "stdout",
     "output_type": "stream",
     "text": [
      "Kim Kardashian West, Lady Gaga, Jake Paul, And Other Celebrities Are Sharing Photos And Videos Of The Hospital And Back To Work\n",
      "An Instagram Video Shows The Inside Of The Hospital And Back To Work\n",
      "An Instagram Video Shows The Inside Of The Woolsey Fire Evacuations\n",
      "The Border Patrol Apprehended More Families Than Ever At The Border Patrol Apprehended More Families Than Ever At The Border Last Month\n",
      "Ruth Bader Ginsburg Is Already Out Of The Woolsey Fire Evacuations\n",
      "Celebrities Are Sharing Photos And Videos Of The Hospital And Back To Work\n",
      "The Border Patrol Apprehended More Families Than Ever At The Border Patrol Apprehended More Families Than Ever At The Border Last Month\n",
      "California University Students Say Their Play About The Migrant Caravan Lately? Here's What It's Been Up To.\n",
      "An Instagram Video Shows The Inside Of The Woolsey Fire Evacuations\n",
      "An Instagram Video Shows The Inside Of The Woolsey Fire Evacuations\n"
     ]
    }
   ],
   "source": [
    "for i in range(10):\n",
    "    new_headlines = markov.make_short_sentence(140)\n",
    "    print(new_headlines)"
   ]
  },
  {
   "cell_type": "markdown",
   "metadata": {},
   "source": [
    "# This is cool, but more data would be helpful. Let's use selenium to grab the first five pages of headlines\n",
    "## Need:\n",
    "### Chromedriver installed (I used homebrew for mac 'brew cask install chromedriver'\n",
    "### Selenium 'pip install selenium'\n",
    "### Also the request website, so it takes inspecting the 'show more' click element on the page"
   ]
  },
  {
   "cell_type": "code",
   "execution_count": 59,
   "metadata": {},
   "outputs": [],
   "source": [
    "from selenium import webdriver\n",
    "from selenium.webdriver.common.keys import Keys"
   ]
  },
  {
   "cell_type": "code",
   "execution_count": 71,
   "metadata": {},
   "outputs": [],
   "source": [
    "browser = webdriver.Chrome()\n",
    "\n",
    "# set page_number_max\n",
    "page_number_max = 6\n",
    "\n",
    "\n",
    "def grab_buzzfeed_headlines_usa(page_number_max):\n",
    "    headlines = []\n",
    "    url = \"https://www.buzzfeednews.com/us/feed/home?page={}&flexpro_enabled=1\"\n",
    "    page_number = 1\n",
    "    while page_number<page_number_max:\n",
    "        print(\"Scraping page number {}\".format(page_number))\n",
    "        browser.get(url.format(page_number))\n",
    "        time.sleep(1)\n",
    "        elem = browser.find_element_by_tag_name(\"a\")\n",
    "        post_elems = browser.find_elements_by_class_name(\"newsblock-story-card__title-link\")\n",
    "        for post in post_elems:\n",
    "            headlines.append(post.text)\n",
    "        page_number += 1\n",
    "    return headlines"
   ]
  },
  {
   "cell_type": "code",
   "execution_count": 72,
   "metadata": {},
   "outputs": [
    {
     "name": "stdout",
     "output_type": "stream",
     "text": [
      "Scraping page number 1\n",
      "Scraping page number 2\n",
      "Scraping page number 3\n",
      "Scraping page number 4\n",
      "Scraping page number 5\n"
     ]
    }
   ],
   "source": [
    "headlines = grab_buzzfeed_headlines_usa(6)"
   ]
  },
  {
   "cell_type": "code",
   "execution_count": 65,
   "metadata": {},
   "outputs": [
    {
     "data": {
      "text/plain": [
       "['Kim Kardashian West, Lady Gaga, Jake Paul, And Other Celebrities Are Also Forced To Flee California Wildfires',\n",
       " 'These Pictures Show The Total Devastation Caused By California Wildfires',\n",
       " '164 People Are Sick And 1 Is Dead Due To A Salmonella Outbreak Linked To Raw Turkey',\n",
       " '16 Heartbreaking Books To Get You Through Your Own Heartache',\n",
       " '22 Of The Most Powerful Photos Of This Week',\n",
       " 'This #MeToo Moment Is Tearing The Russian Internet Apart',\n",
       " 'Amazon Removed Merchandise From Its Site Touting The Far-Right Group \"Proud Boys\"',\n",
       " 'Scotland Will Be The First Country To Mandate LGBTI Education',\n",
       " 'The ACLU Just Sued Trump Over His New Asylum Order',\n",
       " 'Florida Is A Giant Mess Again And Lawsuits Are Flying Ahead Of Possible Recounts',\n",
       " 'This Small Town Was Once A Progressive Fairy Tale. But In 2018, It’s Living A Far-Right Nightmare.',\n",
       " 'An Infant’s Death Has Sparked A Heated Debate Around The \"Free Birth\" Movement',\n",
       " \"Here's What Registered Dietitians Really Think About Oat Milk's Nutrition Profile\",\n",
       " 'Juul Will No Longer Sell Flavored E-Cigarettes In Stores',\n",
       " 'Here’s The Classified Letter About Russia That Senate Democrats Sent To Obama After Trump Was Elected',\n",
       " 'RuPaul Reversed Himself And Is Now Allowing A Trans “Drag Race” Contestant To Compete',\n",
       " 'Ruth Bader Ginsburg Is Already Out Of The Hospital And Back To Work',\n",
       " '\"Lord Of The Rings\" Star Viggo Mortensen Apologized For Using The N-Word While Promoting His Upcoming Movie',\n",
       " 'Michelle Obama Revealed She Had A Miscarriage And Conceived Her Daughters Using IVF',\n",
       " 'Trump Signed A Proclamation To Deny Asylum To Many Migrants Crossing The Southern Border',\n",
       " 'Emily Blunt Is On The Cover Of Vogue Dressed As Mary Poppins And People Are Obsessed',\n",
       " '“Girl, Wash Your Face” Is A Massive Best-Seller With A Dark Message',\n",
       " 'People Are Being Subjected To Sonic Booms To See If The Rich Get Supersonic Planes Again',\n",
       " 'Morning Update: What Just Happened In American Politics?',\n",
       " 'Celebrities Are Sharing Photos And Videos Of The Woolsey Fire Evacuations',\n",
       " '“Borderline Was Home\": The Thousand Oaks Shooting Shattered A Tight-Knit Community',\n",
       " \"Thousand Oaks Residents Devastated By Wednesday's Shooting Are Fleeing A Wildfire\",\n",
       " 'The Thousand Oaks Shooter Allegedly Sexually Assaulted His Track And Field Coach In High School',\n",
       " 'An Instagram Video Shows The Inside Of The Thousand Oaks Bar When 12 People Were Killed',\n",
       " 'California University Students Say Their Play About The Columbine Must Go On Despite The Mass Shooting',\n",
       " \"You Haven't Heard About The Migrant Caravan Lately? Here's What It's Been Up To.\",\n",
       " \"Robert Mueller Can't Just Do Whatever He Wants, His Office Argued In Court\",\n",
       " 'Current House Democrats Are Strategizing On How To Support New Anti-Pelosi Members',\n",
       " 'The 10th State In The US Just Eliminated Its \"Pink Tax\" On Pads And Tampons And People Are Celebrating',\n",
       " '“Single Parents” Is The Successor To “New Girl” We Deserve',\n",
       " 'Father Of Son Killed In California Mass Shooting: \"I Can\\'t Believe It Happened To My Family\"',\n",
       " \"Teresa Giudice Hasn't Asked Donald Trump To Stop Joe's Deportation\",\n",
       " 'A Federal Appeals Court Just Ruled Against The Trump Administration’s Attempt To End DACA',\n",
       " 'Stacey Abrams Isn’t Giving Up On Her Campaign For Governor In Georgia',\n",
       " 'The Sheriff In Thousand Oaks Said Mass Shootings \"Can Happen Anywhere\"',\n",
       " 'J.K. Rowling Is Suing A Former Assistant For Allegedly Scamming Her Out Of Thousands Of Dollars',\n",
       " 'Despite Changes To Sexual Misconduct Policies, Google Walkout Organizers Say There’s More To Be Done',\n",
       " 'These Old Photos Of Hot And Cool Grandparents Are A Great Break From The Wild News Cycle',\n",
       " 'A Member Of A Far-Right WhatsApp Group Plotted To Assassinate Spain’s Prime Minister, Police Say',\n",
       " 'Welcome To The Dystopia: People Are Arguing About Whether This Trump Press Conference Video Is Doctored',\n",
       " 'Are You Ready For Sex Robots? Too Bad, They’re Already Here.',\n",
       " 'The California Shooter Who Murdered At Least 12 People At A Bar Was A Marine Veteran',\n",
       " 'Emma Thompson Was Made A Dame And Flirted With Prince William While Wearing Sneakers',\n",
       " 'Supreme Court Justice Ruth Bader Ginsburg Has Been Hospitalized After A Fall',\n",
       " \"Lucy McBath Ran For Congress After Her Son's Murder And Won\",\n",
       " 'Morning Update: At Least 12 People Died In A California Mass Shooting',\n",
       " 'We’re Shocked. We Mourn. Then We Move On, Until The Next Hate-Fueled Attack.',\n",
       " 'At Least 12 People Were Killed In A Shooting At A California Bar',\n",
       " \"The White House Suspended CNN's Jim Acosta After A Contentious Exchange With Trump\",\n",
       " 'Two Journalists Are Free After Being Detained In Tanzania For No Clear Reason',\n",
       " \"Californians Just Voted To Make Daylight Saving Time Permanent, But Nothing's Changing Just Yet.\",\n",
       " 'House Democrats Are Ready To Investigate Trump — Starting With Why He Fired Jeff Sessions',\n",
       " 'Democrats See A 2020 Path In The Midwest With Amy Klobuchar And Sherrod Brown',\n",
       " 'As The Votes Rolled In From The Midterms, North Korea Canceled Another Meeting With Trump Officials',\n",
       " 'Beto Voters In Texas Aren’t Heartbroken — They’re Ready For The Next Fight',\n",
       " 'The Courts Blocked Trump From Granting Religious Exemptions For Birth Control Coverage. So He’s Trying Again.',\n",
       " \"With Sessions' Departure, Immigration Opponents Have Lost A Key Ally\",\n",
       " \"The Man Who Obliterated Donald Trump's Star On The Hollywood Walk Of Fame Just Pleaded Guilty\",\n",
       " 'A Missouri Republican Who Was Called \"Racist\" And \"Homophobic\" By His Children Has Lost His Election',\n",
       " 'Donald Trump Is Ready To “Fight Fire With Fire” In The New Phase Of His Presidency',\n",
       " 'RT Says It Has “No Plans” To Hire Dana Rohrabacher',\n",
       " 'Donald Trump Will Miss Jeff Sessions Now That He’s Gone',\n",
       " \"This Teen's Dramatic Reaction To A Guy At A GOP Election Party Went Viral, But This Is What Actually Happened\",\n",
       " 'The Driver Charged With Killing Broadway Star Ruthie Ann Miles’ Daughter In A Car Crash Is Dead',\n",
       " 'Trump Accused A Black Reporter Of Racism After She Asked Him About White Nationalism',\n",
       " 'A Mississippi Man Lost His Nursing Job After He Wore A Violently Racist Shirt To Vote In The Midterms',\n",
       " \"Trump's Endorsements Didn't Make A Big Difference On Election Night\",\n",
       " '19 Black Women Just Became Judges In Texas After Winning In The Midterm Elections',\n",
       " 'President Trump Has Forced Attorney General Jeff Sessions To Resign',\n",
       " \"There Was No Midterm Misinformation Crisis Because We've Democratized Propaganda\",\n",
       " 'Housing Is Unaffordable. Here’s How People Voted To Solve The Crisis.',\n",
       " '25 Of The Most Powerful Photos From The 2018 Midterm Elections',\n",
       " 'A Republican Congressman Indicted On Campaign Fraud Charges Just Won Reelection',\n",
       " 'Medicaid Expansion Won Big Tuesday And Hundreds Of Thousands Of People Will Now Gain Health Insurance',\n",
       " 'Donald Trump Singled Out A CNN Reporter As An “Enemy Of The People”',\n",
       " 'Danity Kane Said Diddy Was “Sexist” And Didn’t Like “Being Challenged”',\n",
       " 'Big Oil Won Big In The Midterm Elections',\n",
       " 'Tim Ryan Said Nancy Pelosi Is Just As Unpopular As Donald Trump And The House Should Get New Leadership',\n",
       " 'Washington Rep. Suzan DelBene Will Run For Democratic Leadership',\n",
       " 'Ariana Grande’s “Breathin” Music Video Is Here And It’s Everything',\n",
       " 'Here Are The Big Midterm Election Races That Are Still Undecided',\n",
       " \"Republicans Scored Victories Investigating The Obama Administration. Now They May Wish They Hadn't.\",\n",
       " 'These Moments Of Victory For Women In The Midterms Are Everything',\n",
       " 'Jack White Dedicated A Song To Two Women Who Were Told To Stop Kissing At One Of His Recent Concerts',\n",
       " 'Republicans Lost The House, But That Won’t Stop Them From Confirming Judges In The Senate',\n",
       " 'At Least Six Scientists And Engineers Who Ran For Congress Won In The Midterms',\n",
       " 'Morning Update: You Wouldn\\'t Quite Call It A \"Wave\"',\n",
       " 'A Dead Pimp Just Won An Election In Nevada',\n",
       " 'Scott Walker Just Lost The Wisconsin Governor Race',\n",
       " 'The Big-Name Progressive Candidates Got Wiped Out In Competitive Midwest Races',\n",
       " 'The Biggest Democratic Stars Of The Midterms Lost. Here’s Who You Should Know About Now.',\n",
       " 'An Unprecedented Number Of Women Just Won Elections Across The Country',\n",
       " 'Here Are Some Of The Biggest Moments Of The 2018 Midterm Elections',\n",
       " 'An NRA-Backed GOP Congressman Just Lost To A Democrat Who Supports Gun Control',\n",
       " '\"I\\'m Not Going Anywhere\": Andrew Gillum Vowed To Keep Fighting As He Conceded Florida\\'s Governor\\'s Race',\n",
       " 'Here Are Some Of The Historic Firsts From The Midterm Elections',\n",
       " 'Michigan Just Became The 10th State To Legalize Weed In The US',\n",
       " 'Here Are The Best Responses On Twitter To Beto Losing The Texas Senate Race To Cruz',\n",
       " \"Colorado's Anti-Fracking Proposal Just Failed — Handing A Big Win To Big Oil\",\n",
       " 'Democrats Were Never Going To Win The Senate',\n",
       " 'Michael Grimm Is Already Thinking About Another Run For His Old House Seat, Now That A Democrat Won It',\n",
       " 'People Are Emotional Over This Twitter Exchange Between The First Muslim Women In Congress',\n",
       " 'Despite Taylor Swift’s Support, Democrats Have Lost A Tennessee Senate Race',\n",
       " 'Meet The Guy Who Was Just Elected As The First Openly Gay Governor In The US',\n",
       " 'Transgender Americans Just Won A Historic Victory In Massachusetts',\n",
       " \"This Is Exactly How You're Feeling On Election Night, As Told By Emojis\",\n",
       " 'The Republican Accused Of Liking Bigfoot Erotica And Offensive Facebook Pages Won A House Seat In Virginia',\n",
       " 'Floridians Just Voted To Restore Voting Rights For More Than 1 Million Convicted Felons',\n",
       " 'Kim Davis — That Anti-Gay Clerk In Kentucky — Was Just Voted Out Of Office',\n",
       " 'Rashida Tlaib And Ilhan Omar Are The First Muslim Women Elected To Congress',\n",
       " 'People From Around The World Are Judging The US Voting System',\n",
       " 'These People Just Voted For The First Time And Tweeted Their Heartwarming Stories',\n",
       " 'A Fake Donald Trump Twitter Account Is Spreading Election Falsehoods (And A Link To \"2 Girls, 1 Cup\")',\n",
       " 'This Little Girl Hilariously Misunderstood What Her Parents Were Doing When They Went To Vote In The Midterms',\n",
       " 'Georgia Voters Are Suing To Stop Gubernatorial Candidate Brian Kemp From Overseeing The Election',\n",
       " 'History Could Remember Trump As A Bump In The Road',\n",
       " 'In One Florida County, All Polling Places Have Been Replaced With Six “Mega Voting Sites”',\n",
       " 'Colorado Dad Christopher Watts Pleaded Guilty To Killing His Wife, Two Daughters, And Unborn Son',\n",
       " 'Voters Are Again Putting Their \"I Voted\" Stickers On Susan B. Anthony\\'s Grave',\n",
       " 'People Are Sleeping On The Biggest Story Of This Election',\n",
       " 'The Trump Administration Is Considering More Restrictions On Who Can Ask For Asylum',\n",
       " \"Beyoncé Just Endorsed Texas Democrat Beto O'Rourke For Senate\",\n",
       " 'The Trump Administration Says It Will Soon Impose New Sanctions On Russia Over The Skripal Poisonings',\n",
       " 'Opinion: Elections Should Always Feel This Urgent',\n",
       " 'Polling Stations Ran Out Of \"I Voted\" Stickers So People Got Creative By Making Their Own',\n",
       " 'Here Are Some Of The Wild Places That People Voted At Today',\n",
       " 'This 73-Year-Old Man Gave Stacey Abrams Flowers For \"All The Deceased Women In His Family That Did Not Get To See Her Make It This Far\"',\n",
       " 'This Election Showed Why Voting Rights Will Be A Defining Struggle For Our Generation',\n",
       " 'Duncan Hines Is Recalling 4 Cake Mixes Due To Possible Salmonella Contamination',\n",
       " 'Long Lines At The Polls Could Be One More Thing That Makes It Harder For Minorities To Vote',\n",
       " 'A Group Of Irish Citizens Is Campaigning In Some Of The Most Competitive US Congressional Races',\n",
       " 'Border Patrol Agents Had To Scrap Election Day “Crowd Control” Drills After They Were Accused Of Voter Intimidation',\n",
       " \"Here's What Voters In 8 States Are Most Concerned About\",\n",
       " 'Women Built The Beto Campaign In Texas — So Where Are The Men?',\n",
       " 'The Producer Behind \"Despicable Me\" Is Going To Reboot The \"Shrek\" Franchise And People Are Not Really Here For It',\n",
       " 'Jailed Ohio Voters Are Suing The State So They Can Vote',\n",
       " 'These Pictures Show Just How Many People Have Turned Out To Vote',\n",
       " 'Chris Gethard Really Really Really Loves Soda',\n",
       " 'Answer These Election Day Questions Using Only Emojis',\n",
       " 'Members Of Last Spring’s Caravan Are Now In Mexico To Help With The Newest One',\n",
       " \"Morning Update: OK, Voters, Now Let's Get Information\",\n",
       " 'Midterm Elections 2018 Results: Live Updates, News, And Race Results On Election Day',\n",
       " \"An Hour-By-Hour Guide For Normal People Watching Tonight's Election\",\n",
       " 'Midterm Elections Live Results: Democrats Have Flipped The House And Republicans Will Keep The Senate',\n",
       " \"Sean Hannity Says He Didn't Lie About Joining A Trump Campaign Rally\",\n",
       " 'These Pictures Show Just How Much Voting Has Changed In The US',\n",
       " \"If Dana Rohrabacher Keeps His Seat In Congress, He'll Owe The Victory To Legal Pot\",\n",
       " \"The Story Behind The Most Devastating Line In This Year's Campaign\",\n",
       " 'The US Olympic Committee Is Moving To Revoke USA Gymnastics’s Status After The Massive Abuse Scandal',\n",
       " 'Nearly 10 Years Apart, Attacks On Women Have Eerie Similarities',\n",
       " 'The Migrant Caravan Is Camping In A Mexico City Stadium After Weeks Of Travel',\n",
       " 'Jada Pinkett Smith Confronted Leah Remini For Calling Her Family Scientologists',\n",
       " 'Turns Out Cornell’s Brian Wansink Investigation Is Still Very Much Going',\n",
       " \"Saudi Arabia Sought To Create A New Media Project Months Before Journalist's Murder\",\n",
       " \"Here's How We're Covering Voting And Cybersecurity On Election Day\",\n",
       " '4 Burning Questions About The “Homecoming” Season Finale Answered',\n",
       " 'The Trump Administration, Again, Asks The Supreme Court To Hear A DACA Case',\n",
       " 'These Stories Tell The Harsh Realities Of Working In An Overseas Factory',\n",
       " 'Pot Stores Could Open In DC If Democrats Win Back The House',\n",
       " 'Tears, Fears, And Cheeseburgers: Inside The Chaotic Final Days Of California’s Pivotal House Races',\n",
       " 'The Partisan Meme Wars Have Come For LinkedIn',\n",
       " \"Ariana Grande's New Song About Her Exes Has Become A Hilarious Meme\"]"
      ]
     },
     "execution_count": 65,
     "metadata": {},
     "output_type": "execute_result"
    }
   ],
   "source": [
    "headlines"
   ]
  },
  {
   "cell_type": "code",
   "execution_count": 85,
   "metadata": {},
   "outputs": [],
   "source": [
    "markov = markovify.NewlineText(\"\\n\".join(headlines), state_size=2)"
   ]
  },
  {
   "cell_type": "code",
   "execution_count": 90,
   "metadata": {},
   "outputs": [],
   "source": [
    "new_headlines = []\n",
    "for i in range(10):\n",
    "    new_headline = markov.make_sentence()\n",
    "    new_headlines.append(new_headline)"
   ]
  },
  {
   "cell_type": "code",
   "execution_count": 92,
   "metadata": {},
   "outputs": [
    {
     "name": "stdout",
     "output_type": "stream",
     "text": [
      "o - Donald Trump Singled Out A CNN Reporter As An “Enemy Of The Thousand Oaks Shooter Allegedly Sexually Assaulted His Track And Field Coach In High School is not in headlines\n",
      "o - The Biggest Moments Of The Biggest Democratic Stars Of The 2018 Midterm Elections is not in headlines\n",
      "o - The Migrant Caravan Is Camping In A Car Crash Is Dead is not in headlines\n",
      "o - Washington Rep. Suzan DelBene Will Run For His Old House Seat, Now That He’s Gone is not in headlines\n",
      "o - The California Shooter Who Murdered At Least 12 People Died In A Car Crash Is Dead is not in headlines\n",
      "o - Pot Stores Could Open In DC If Democrats Win Back The House And Republicans Will Keep The Senate is not in headlines\n",
      "o - Here Are Some Of The Most Devastating Line In This Year's Campaign is not in headlines\n",
      "o - These Old Photos Of Hot And Cool Grandparents Are A Great Break From The Wild Places That People Voted At Today is not in headlines\n",
      "o - Kim Davis — That Anti-Gay Clerk In Kentucky — Was Just Elected As The First Muslim Women Elected To Congress is not in headlines\n",
      "o - Californians Just Voted For The Next Fight is not in headlines\n"
     ]
    }
   ],
   "source": [
    "for new_headline in new_headlines:\n",
    "    if new_headline in headlines:\n",
    "        print(\"x - {} is in headlines\".format(new_headline))\n",
    "    else:\n",
    "        print(\"o - {} is not in headlines\".format(new_headline))"
   ]
  },
  {
   "cell_type": "code",
   "execution_count": 93,
   "metadata": {},
   "outputs": [
    {
     "data": {
      "text/plain": [
       "['Donald Trump Singled Out A CNN Reporter As An “Enemy Of The Thousand Oaks Shooter Allegedly Sexually Assaulted His Track And Field Coach In High School',\n",
       " 'The Biggest Moments Of The Biggest Democratic Stars Of The 2018 Midterm Elections',\n",
       " 'The Migrant Caravan Is Camping In A Car Crash Is Dead',\n",
       " 'Washington Rep. Suzan DelBene Will Run For His Old House Seat, Now That He’s Gone',\n",
       " 'The California Shooter Who Murdered At Least 12 People Died In A Car Crash Is Dead',\n",
       " 'Pot Stores Could Open In DC If Democrats Win Back The House And Republicans Will Keep The Senate',\n",
       " \"Here Are Some Of The Most Devastating Line In This Year's Campaign\",\n",
       " 'These Old Photos Of Hot And Cool Grandparents Are A Great Break From The Wild Places That People Voted At Today',\n",
       " 'Kim Davis — That Anti-Gay Clerk In Kentucky — Was Just Elected As The First Muslim Women Elected To Congress',\n",
       " 'Californians Just Voted For The Next Fight']"
      ]
     },
     "execution_count": 93,
     "metadata": {},
     "output_type": "execute_result"
    }
   ],
   "source": [
    "new_headlines"
   ]
  },
  {
   "cell_type": "code",
   "execution_count": null,
   "metadata": {},
   "outputs": [],
   "source": []
  }
 ],
 "metadata": {
  "kernelspec": {
   "display_name": "Python 3",
   "language": "python",
   "name": "python3"
  },
  "language_info": {
   "codemirror_mode": {
    "name": "ipython",
    "version": 3
   },
   "file_extension": ".py",
   "mimetype": "text/x-python",
   "name": "python",
   "nbconvert_exporter": "python",
   "pygments_lexer": "ipython3",
   "version": "3.6.5"
  }
 },
 "nbformat": 4,
 "nbformat_minor": 2
}
